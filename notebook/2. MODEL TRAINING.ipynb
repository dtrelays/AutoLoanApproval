{
 "cells": [
  {
   "attachments": {},
   "cell_type": "markdown",
   "id": "92e48866",
   "metadata": {},
   "source": [
    "<p style=\"background-color:#682F2F;font-family:newtimeroman;color:#FFF9ED;font-size:200%;text-align:center;border-radius:15px 15px;\">Model Training for Auto 2W Loan Approval</p>"
   ]
  },
  {
   "cell_type": "markdown",
   "id": "25791a74",
   "metadata": {},
   "source": [
    "#### 1.1 Import Data and Required Packages\n",
    "##### Importing Basic, Preprocessing and Model Training Library."
   ]
  },
  {
   "cell_type": "code",
   "execution_count": 27,
   "id": "b080dfb2",
   "metadata": {},
   "outputs": [],
   "source": [
    "# Basic Import\n",
    "import numpy as np\n",
    "import pandas as pd\n",
    "import matplotlib.pyplot as plt \n",
    "import seaborn as sns\n",
    "\n",
    "#Preprocessing\n",
    "from sklearn.preprocessing import OneHotEncoder, StandardScaler\n",
    "from sklearn.compose import ColumnTransformer\n",
    "from sklearn.model_selection import train_test_split\n",
    "\n",
    "# Modelling\n",
    "from sklearn.metrics import mean_squared_error, r2_score\n",
    "from sklearn.neighbors import KNeighborsRegressor\n",
    "from sklearn.tree import DecisionTreeRegressor\n",
    "from sklearn.ensemble import RandomForestRegressor,AdaBoostRegressor\n",
    "from sklearn.svm import SVR\n",
    "from sklearn.linear_model import LinearRegression, Ridge,Lasso\n",
    "from sklearn.metrics import r2_score, mean_absolute_error, mean_squared_error\n",
    "from sklearn.model_selection import RandomizedSearchCV\n",
    "from catboost import CatBoostRegressor\n",
    "from xgboost import XGBRegressor\n",
    "import warnings"
   ]
  },
  {
   "cell_type": "markdown",
   "id": "e45079ad",
   "metadata": {},
   "source": [
    "#### Import the CSV Data as Pandas DataFrame"
   ]
  },
  {
   "cell_type": "code",
   "execution_count": 28,
   "id": "e11c6255",
   "metadata": {},
   "outputs": [],
   "source": [
    "df = pd.read_csv('data/credit_data.csv')"
   ]
  },
  {
   "cell_type": "code",
   "execution_count": 29,
   "id": "783ca2cb",
   "metadata": {},
   "outputs": [],
   "source": [
    "#dropping duplicate records\n",
    "df = df.drop_duplicates()"
   ]
  },
  {
   "cell_type": "code",
   "execution_count": 30,
   "id": "e7e412a2",
   "metadata": {},
   "outputs": [],
   "source": [
    "# Treating missing values\n",
    "df['Occupation'] = df['Occupation'].fillna('Others')"
   ]
  },
  {
   "cell_type": "code",
   "execution_count": 31,
   "id": "aa55ba11",
   "metadata": {},
   "outputs": [],
   "source": [
    "#Feature Engineering and Removing Very low cost vehicle data\n",
    "df['TwoWheeler Cost'] = round((df['Loan Amount']/df['LTV Ratio'])*100,0)\n",
    "\n",
    "df = df[df['TwoWheeler Cost']>=20000.0]"
   ]
  },
  {
   "cell_type": "markdown",
   "id": "fbd32281",
   "metadata": {},
   "source": [
    "#### Preparing X and Y variables"
   ]
  },
  {
   "cell_type": "code",
   "execution_count": 33,
   "id": "56d72fde",
   "metadata": {},
   "outputs": [],
   "source": [
    "X = df.drop(columns=['Profile Score'],axis=1)\n",
    "y = df['Profile Score']"
   ]
  },
  {
   "cell_type": "code",
   "execution_count": 34,
   "id": "1e290fe3",
   "metadata": {},
   "outputs": [],
   "source": [
    "# Create Column Transformer with 3 types of transformers\n",
    "num_features = X.select_dtypes(exclude=\"object\").columns\n",
    "cat_features = X.select_dtypes(include=\"object\").columns\n",
    "\n",
    "numeric_transformer = StandardScaler()\n",
    "oh_transformer = OneHotEncoder()\n",
    "\n",
    "preprocessor = ColumnTransformer(\n",
    "    [\n",
    "        (\"OneHotEncoder\", oh_transformer, cat_features),\n",
    "         (\"StandardScaler\", numeric_transformer, num_features),        \n",
    "    ]\n",
    ")"
   ]
  },
  {
   "cell_type": "code",
   "execution_count": 35,
   "id": "9c68f99a",
   "metadata": {},
   "outputs": [],
   "source": [
    "X = preprocessor.fit_transform(X)"
   ]
  },
  {
   "cell_type": "code",
   "execution_count": 37,
   "id": "ed5c4e99",
   "metadata": {},
   "outputs": [],
   "source": [
    "#creating three sets - training, test and validation\n",
    "X_train_temp, X_test, y_train_temp, y_test = train_test_split(X, y, test_size=0.2, random_state=42)\n",
    "\n",
    "# Splitting temporary set into validation and test sets\n",
    "X_train, X_val, y_train, y_val = train_test_split(X_train_temp, y_train_temp, test_size=0.25, random_state=42)"
   ]
  },
  {
   "cell_type": "markdown",
   "id": "4cd80317",
   "metadata": {},
   "source": [
    "#### Create an Evaluate Function to give all metrics after model Training"
   ]
  },
  {
   "cell_type": "code",
   "execution_count": 38,
   "id": "8c247bd0",
   "metadata": {},
   "outputs": [],
   "source": [
    "def evaluate_model(true, predicted):\n",
    "    mae = mean_absolute_error(true, predicted)\n",
    "    mse = mean_squared_error(true, predicted)\n",
    "    rmse = np.sqrt(mean_squared_error(true, predicted))\n",
    "    r2_square = r2_score(true, predicted)\n",
    "    return mae, rmse, r2_square"
   ]
  },
  {
   "cell_type": "code",
   "execution_count": 39,
   "id": "79ccb8e7",
   "metadata": {
    "scrolled": false
   },
   "outputs": [
    {
     "name": "stdout",
     "output_type": "stream",
     "text": [
      "Linear Regression\n",
      "Model performance for Training set\n",
      "- Root Mean Squared Error: 12.3279\n",
      "- Mean Absolute Error: 10.0779\n",
      "- R2 Score: 0.7466\n",
      "----------------------------------\n",
      "Model performance for Test set\n",
      "- Root Mean Squared Error: 12.3439\n",
      "- Mean Absolute Error: 10.1111\n",
      "- R2 Score: 0.7423\n",
      "===================================\n",
      "\n",
      "\n",
      "Lasso\n",
      "Model performance for Training set\n",
      "- Root Mean Squared Error: 13.6895\n",
      "- Mean Absolute Error: 11.0639\n",
      "- R2 Score: 0.6875\n",
      "----------------------------------\n",
      "Model performance for Test set\n",
      "- Root Mean Squared Error: 13.6468\n",
      "- Mean Absolute Error: 11.0468\n",
      "- R2 Score: 0.6851\n",
      "===================================\n",
      "\n",
      "\n",
      "Ridge\n",
      "Model performance for Training set\n",
      "- Root Mean Squared Error: 12.3279\n",
      "- Mean Absolute Error: 10.0779\n",
      "- R2 Score: 0.7466\n",
      "----------------------------------\n",
      "Model performance for Test set\n",
      "- Root Mean Squared Error: 12.3438\n",
      "- Mean Absolute Error: 10.1111\n",
      "- R2 Score: 0.7423\n",
      "===================================\n",
      "\n",
      "\n",
      "K-Neighbors Regressor\n",
      "Model performance for Training set\n",
      "- Root Mean Squared Error: 8.2973\n",
      "- Mean Absolute Error: 6.0208\n",
      "- R2 Score: 0.8852\n",
      "----------------------------------\n",
      "Model performance for Test set\n",
      "- Root Mean Squared Error: 10.2487\n",
      "- Mean Absolute Error: 7.5042\n",
      "- R2 Score: 0.8224\n",
      "===================================\n",
      "\n",
      "\n",
      "Decision Tree\n",
      "Model performance for Training set\n",
      "- Root Mean Squared Error: 0.0000\n",
      "- Mean Absolute Error: 0.0000\n",
      "- R2 Score: 1.0000\n",
      "----------------------------------\n",
      "Model performance for Test set\n",
      "- Root Mean Squared Error: 8.6122\n",
      "- Mean Absolute Error: 4.3828\n",
      "- R2 Score: 0.8746\n",
      "===================================\n",
      "\n",
      "\n",
      "Random Forest Regressor\n",
      "Model performance for Training set\n",
      "- Root Mean Squared Error: 2.5327\n",
      "- Mean Absolute Error: 1.7677\n",
      "- R2 Score: 0.9893\n",
      "----------------------------------\n",
      "Model performance for Test set\n",
      "- Root Mean Squared Error: 6.7379\n",
      "- Mean Absolute Error: 4.7544\n",
      "- R2 Score: 0.9232\n",
      "===================================\n",
      "\n",
      "\n"
     ]
    },
    {
     "name": "stderr",
     "output_type": "stream",
     "text": [
      "/Users/kianathakkar/Documents/AutoLoanApproval/venv/lib/python3.11/site-packages/xgboost/data.py:520: FutureWarning: is_sparse is deprecated and will be removed in a future version. Check `isinstance(dtype, pd.SparseDtype)` instead.\n",
      "  if is_sparse(data):\n"
     ]
    },
    {
     "name": "stdout",
     "output_type": "stream",
     "text": [
      "XGBRegressor\n",
      "Model performance for Training set\n",
      "- Root Mean Squared Error: 7.7444\n",
      "- Mean Absolute Error: 6.0622\n",
      "- R2 Score: 0.9000\n",
      "----------------------------------\n",
      "Model performance for Test set\n",
      "- Root Mean Squared Error: 8.5188\n",
      "- Mean Absolute Error: 6.6230\n",
      "- R2 Score: 0.8773\n",
      "===================================\n",
      "\n",
      "\n",
      "CatBoosting Regressor\n",
      "Model performance for Training set\n",
      "- Root Mean Squared Error: 8.0465\n",
      "- Mean Absolute Error: 6.3276\n",
      "- R2 Score: 0.8920\n",
      "----------------------------------\n",
      "Model performance for Test set\n",
      "- Root Mean Squared Error: 8.5444\n",
      "- Mean Absolute Error: 6.6771\n",
      "- R2 Score: 0.8765\n",
      "===================================\n",
      "\n",
      "\n",
      "AdaBoost Regressor\n",
      "Model performance for Training set\n",
      "- Root Mean Squared Error: 10.4629\n",
      "- Mean Absolute Error: 8.7933\n",
      "- R2 Score: 0.8175\n",
      "----------------------------------\n",
      "Model performance for Test set\n",
      "- Root Mean Squared Error: 10.4948\n",
      "- Mean Absolute Error: 8.8250\n",
      "- R2 Score: 0.8137\n",
      "===================================\n",
      "\n",
      "\n"
     ]
    }
   ],
   "source": [
    "models = {\n",
    "    \"Linear Regression\": LinearRegression(),\n",
    "    \"Lasso\": Lasso(),\n",
    "    \"Ridge\": Ridge(),\n",
    "    \"K-Neighbors Regressor\": KNeighborsRegressor(),\n",
    "    \"Decision Tree\": DecisionTreeRegressor(),\n",
    "    \"Random Forest Regressor\": RandomForestRegressor(),\n",
    "    \"XGBRegressor\": XGBRegressor(), \n",
    "    \"CatBoosting Regressor\": CatBoostRegressor(verbose=False),\n",
    "    \"AdaBoost Regressor\": AdaBoostRegressor()\n",
    "}\n",
    "model_list = []\n",
    "r2_list =[]\n",
    "\n",
    "for i in range(len(list(models))):\n",
    "    model = list(models.values())[i]\n",
    "    model.fit(X_train, y_train) # Train model\n",
    "\n",
    "    # Make predictions\n",
    "    y_train_pred = model.predict(X_train)\n",
    "    y_test_pred = model.predict(X_test)\n",
    "    \n",
    "    # Evaluate Train and Test dataset\n",
    "    model_train_mae , model_train_rmse, model_train_r2 = evaluate_model(y_train, y_train_pred)\n",
    "\n",
    "    model_test_mae , model_test_rmse, model_test_r2 = evaluate_model(y_test, y_test_pred)\n",
    "\n",
    "    \n",
    "    print(list(models.keys())[i])\n",
    "    model_list.append(list(models.keys())[i])\n",
    "    \n",
    "    print('Model performance for Training set')\n",
    "    print(\"- Root Mean Squared Error: {:.4f}\".format(model_train_rmse))\n",
    "    print(\"- Mean Absolute Error: {:.4f}\".format(model_train_mae))\n",
    "    print(\"- R2 Score: {:.4f}\".format(model_train_r2))\n",
    "\n",
    "    print('----------------------------------')\n",
    "    \n",
    "    print('Model performance for Test set')\n",
    "    print(\"- Root Mean Squared Error: {:.4f}\".format(model_test_rmse))\n",
    "    print(\"- Mean Absolute Error: {:.4f}\".format(model_test_mae))\n",
    "    print(\"- R2 Score: {:.4f}\".format(model_test_r2))\n",
    "    r2_list.append(model_test_r2)\n",
    "    \n",
    "    print('='*35)\n",
    "    print('\\n')"
   ]
  },
  {
   "cell_type": "markdown",
   "id": "06480b5a",
   "metadata": {},
   "source": [
    "### Results"
   ]
  },
  {
   "cell_type": "code",
   "execution_count": 41,
   "id": "e0159e5f",
   "metadata": {},
   "outputs": [
    {
     "data": {
      "text/html": [
       "<div>\n",
       "<style scoped>\n",
       "    .dataframe tbody tr th:only-of-type {\n",
       "        vertical-align: middle;\n",
       "    }\n",
       "\n",
       "    .dataframe tbody tr th {\n",
       "        vertical-align: top;\n",
       "    }\n",
       "\n",
       "    .dataframe thead th {\n",
       "        text-align: right;\n",
       "    }\n",
       "</style>\n",
       "<table border=\"1\" class=\"dataframe\">\n",
       "  <thead>\n",
       "    <tr style=\"text-align: right;\">\n",
       "      <th></th>\n",
       "      <th>Model Name</th>\n",
       "      <th>R2_Score</th>\n",
       "    </tr>\n",
       "  </thead>\n",
       "  <tbody>\n",
       "    <tr>\n",
       "      <th>5</th>\n",
       "      <td>Random Forest Regressor</td>\n",
       "      <td>0.923227</td>\n",
       "    </tr>\n",
       "    <tr>\n",
       "      <th>6</th>\n",
       "      <td>XGBRegressor</td>\n",
       "      <td>0.877280</td>\n",
       "    </tr>\n",
       "    <tr>\n",
       "      <th>7</th>\n",
       "      <td>CatBoosting Regressor</td>\n",
       "      <td>0.876540</td>\n",
       "    </tr>\n",
       "    <tr>\n",
       "      <th>4</th>\n",
       "      <td>Decision Tree</td>\n",
       "      <td>0.874572</td>\n",
       "    </tr>\n",
       "    <tr>\n",
       "      <th>3</th>\n",
       "      <td>K-Neighbors Regressor</td>\n",
       "      <td>0.822378</td>\n",
       "    </tr>\n",
       "    <tr>\n",
       "      <th>8</th>\n",
       "      <td>AdaBoost Regressor</td>\n",
       "      <td>0.813742</td>\n",
       "    </tr>\n",
       "    <tr>\n",
       "      <th>2</th>\n",
       "      <td>Ridge</td>\n",
       "      <td>0.742334</td>\n",
       "    </tr>\n",
       "    <tr>\n",
       "      <th>0</th>\n",
       "      <td>Linear Regression</td>\n",
       "      <td>0.742329</td>\n",
       "    </tr>\n",
       "    <tr>\n",
       "      <th>1</th>\n",
       "      <td>Lasso</td>\n",
       "      <td>0.685063</td>\n",
       "    </tr>\n",
       "  </tbody>\n",
       "</table>\n",
       "</div>"
      ],
      "text/plain": [
       "                Model Name  R2_Score\n",
       "5  Random Forest Regressor  0.923227\n",
       "6             XGBRegressor  0.877280\n",
       "7    CatBoosting Regressor  0.876540\n",
       "4            Decision Tree  0.874572\n",
       "3    K-Neighbors Regressor  0.822378\n",
       "8       AdaBoost Regressor  0.813742\n",
       "2                    Ridge  0.742334\n",
       "0        Linear Regression  0.742329\n",
       "1                    Lasso  0.685063"
      ]
     },
     "execution_count": 41,
     "metadata": {},
     "output_type": "execute_result"
    }
   ],
   "source": [
    "pd.DataFrame(list(zip(model_list, r2_list)), columns=['Model Name', 'R2_Score']).sort_values(by=[\"R2_Score\"],ascending=False)"
   ]
  },
  {
   "cell_type": "markdown",
   "id": "357a7c1c",
   "metadata": {},
   "source": [
    "## Linear Regression"
   ]
  },
  {
   "cell_type": "code",
   "execution_count": 42,
   "id": "9a6ad559",
   "metadata": {},
   "outputs": [
    {
     "name": "stderr",
     "output_type": "stream",
     "text": [
      "/Users/kianathakkar/Documents/AutoLoanApproval/venv/lib/python3.11/site-packages/xgboost/data.py:520: FutureWarning: is_sparse is deprecated and will be removed in a future version. Check `isinstance(dtype, pd.SparseDtype)` instead.\n",
      "  if is_sparse(data):\n"
     ]
    },
    {
     "name": "stdout",
     "output_type": "stream",
     "text": [
      " Accuracy of the model is 87.73\n"
     ]
    }
   ],
   "source": [
    "model = XGBRegressor()\n",
    "xgb = model.fit(X_train, y_train)\n",
    "y_pred = xgb.predict(X_test)\n",
    "score = r2_score(y_test, y_pred)*100\n",
    "print(\" Accuracy of the model is %.2f\" %score)"
   ]
  },
  {
   "cell_type": "markdown",
   "id": "1d31453e",
   "metadata": {},
   "source": [
    "## Plot y_pred and y_test"
   ]
  },
  {
   "cell_type": "code",
   "execution_count": 43,
   "id": "eb557b0a",
   "metadata": {},
   "outputs": [
    {
     "data": {
      "image/png": "[encoded data removed]",
      "text/plain": [
       "<Figure size 640x480 with 1 Axes>"
      ]
     },
     "metadata": {},
     "output_type": "display_data"
    }
   ],
   "source": [
    "plt.scatter(y_test,y_pred);\n",
    "plt.xlabel('Actual');\n",
    "plt.ylabel('Predicted');"
   ]
  },
  {
   "cell_type": "code",
   "execution_count": 27,
   "id": "1e707ec3",
   "metadata": {},
   "outputs": [
    {
     "data": {
      "image/png": "[encoded data removed]",
      "text/plain": [
       "<Figure size 640x480 with 1 Axes>"
      ]
     },
     "metadata": {},
     "output_type": "display_data"
    }
   ],
   "source": [
    "sns.regplot(x=y_test,y=y_pred,ci=None,color ='red');"
   ]
  },
  {
   "cell_type": "markdown",
   "id": "79c2fe28",
   "metadata": {},
   "source": [
    "#### Difference between Actual and Predicted Values"
   ]
  },
  {
   "cell_type": "code",
   "execution_count": 44,
   "id": "7c9a8b48",
   "metadata": {},
   "outputs": [
    {
     "data": {
      "text/html": [
       "<div>\n",
       "<style scoped>\n",
       "    .dataframe tbody tr th:only-of-type {\n",
       "        vertical-align: middle;\n",
       "    }\n",
       "\n",
       "    .dataframe tbody tr th {\n",
       "        vertical-align: top;\n",
       "    }\n",
       "\n",
       "    .dataframe thead th {\n",
       "        text-align: right;\n",
       "    }\n",
       "</style>\n",
       "<table border=\"1\" class=\"dataframe\">\n",
       "  <thead>\n",
       "    <tr style=\"text-align: right;\">\n",
       "      <th></th>\n",
       "      <th>Actual Value</th>\n",
       "      <th>Predicted Value</th>\n",
       "      <th>Difference</th>\n",
       "    </tr>\n",
       "  </thead>\n",
       "  <tbody>\n",
       "    <tr>\n",
       "      <th>12365</th>\n",
       "      <td>96</td>\n",
       "      <td>97.100349</td>\n",
       "      <td>-1.100349</td>\n",
       "    </tr>\n",
       "    <tr>\n",
       "      <th>79571</th>\n",
       "      <td>77</td>\n",
       "      <td>65.192268</td>\n",
       "      <td>11.807732</td>\n",
       "    </tr>\n",
       "    <tr>\n",
       "      <th>67139</th>\n",
       "      <td>96</td>\n",
       "      <td>97.783485</td>\n",
       "      <td>-1.783485</td>\n",
       "    </tr>\n",
       "    <tr>\n",
       "      <th>236574</th>\n",
       "      <td>97</td>\n",
       "      <td>96.142494</td>\n",
       "      <td>0.857506</td>\n",
       "    </tr>\n",
       "    <tr>\n",
       "      <th>5911</th>\n",
       "      <td>70</td>\n",
       "      <td>75.338158</td>\n",
       "      <td>-5.338158</td>\n",
       "    </tr>\n",
       "    <tr>\n",
       "      <th>...</th>\n",
       "      <td>...</td>\n",
       "      <td>...</td>\n",
       "      <td>...</td>\n",
       "    </tr>\n",
       "    <tr>\n",
       "      <th>87653</th>\n",
       "      <td>100</td>\n",
       "      <td>95.268936</td>\n",
       "      <td>4.731064</td>\n",
       "    </tr>\n",
       "    <tr>\n",
       "      <th>81532</th>\n",
       "      <td>66</td>\n",
       "      <td>44.581066</td>\n",
       "      <td>21.418934</td>\n",
       "    </tr>\n",
       "    <tr>\n",
       "      <th>35233</th>\n",
       "      <td>100</td>\n",
       "      <td>98.520981</td>\n",
       "      <td>1.479019</td>\n",
       "    </tr>\n",
       "    <tr>\n",
       "      <th>155832</th>\n",
       "      <td>85</td>\n",
       "      <td>94.130646</td>\n",
       "      <td>-9.130646</td>\n",
       "    </tr>\n",
       "    <tr>\n",
       "      <th>238669</th>\n",
       "      <td>52</td>\n",
       "      <td>43.455963</td>\n",
       "      <td>8.544037</td>\n",
       "    </tr>\n",
       "  </tbody>\n",
       "</table>\n",
       "<p>35589 rows × 3 columns</p>\n",
       "</div>"
      ],
      "text/plain": [
       "        Actual Value  Predicted Value  Difference\n",
       "12365             96        97.100349   -1.100349\n",
       "79571             77        65.192268   11.807732\n",
       "67139             96        97.783485   -1.783485\n",
       "236574            97        96.142494    0.857506\n",
       "5911              70        75.338158   -5.338158\n",
       "...              ...              ...         ...\n",
       "87653            100        95.268936    4.731064\n",
       "81532             66        44.581066   21.418934\n",
       "35233            100        98.520981    1.479019\n",
       "155832            85        94.130646   -9.130646\n",
       "238669            52        43.455963    8.544037\n",
       "\n",
       "[35589 rows x 3 columns]"
      ]
     },
     "execution_count": 44,
     "metadata": {},
     "output_type": "execute_result"
    }
   ],
   "source": [
    "pred_df=pd.DataFrame({'Actual Value':y_test,'Predicted Value':y_pred,'Difference':y_test-y_pred})\n",
    "pred_df"
   ]
  },
  {
   "cell_type": "code",
   "execution_count": 52,
   "id": "990fa0fc",
   "metadata": {},
   "outputs": [
    {
     "name": "stdout",
     "output_type": "stream",
     "text": [
      "(106765,)\n",
      "<class 'pandas.core.series.Series'>\n"
     ]
    }
   ],
   "source": [
    "print(y_train.shape)\n",
    "print(type(y_train))\n",
    "# Assuming you have X_train and y_train as NumPy arrays\n",
    "# train_dataset = tf.data.Dataset.from_tensor_slices((X_train, y_train))\n",
    "# train_dataset = train_dataset.shuffle(buffer_size=1024).batch(batch_size).prefetch(tf.data.AUTOTUNE)"
   ]
  },
  {
   "cell_type": "code",
   "execution_count": 65,
   "id": "1e276396",
   "metadata": {},
   "outputs": [],
   "source": [
    "import tensorflow as tf\n",
    "from tensorflow.keras.models import Sequential\n",
    "from tensorflow.keras.layers import Dense\n",
    "from tensorflow.keras import initializers\n",
    "import numpy as np\n",
    "from sklearn.metrics import mean_squared_error, r2_score"
   ]
  },
  {
   "cell_type": "code",
   "execution_count": 66,
   "id": "0f44a847",
   "metadata": {},
   "outputs": [
    {
     "name": "stdout",
     "output_type": "stream",
     "text": [
      "Epoch 1/30\n",
      "2670/2670 [==============================] - 2s 558us/step - loss: 258.5359 - val_loss: 81.0046\n",
      "Epoch 2/30\n",
      "2670/2670 [==============================] - 1s 540us/step - loss: 80.0592 - val_loss: 79.6366\n",
      "Epoch 3/30\n",
      "2670/2670 [==============================] - 1s 520us/step - loss: 79.4199 - val_loss: 81.8594\n",
      "Epoch 4/30\n",
      "2670/2670 [==============================] - 1s 522us/step - loss: 79.0643 - val_loss: 79.0308\n",
      "Epoch 5/30\n",
      "2670/2670 [==============================] - 1s 533us/step - loss: 78.6162 - val_loss: 84.2768\n",
      "Epoch 6/30\n",
      "2670/2670 [==============================] - 1s 535us/step - loss: 78.4226 - val_loss: 79.7001\n",
      "Epoch 7/30\n",
      "2670/2670 [==============================] - 1s 549us/step - loss: 78.1528 - val_loss: 79.1210\n",
      "Epoch 8/30\n",
      "2670/2670 [==============================] - 1s 523us/step - loss: 77.9265 - val_loss: 80.1944\n",
      "Epoch 9/30\n",
      "2670/2670 [==============================] - 1s 525us/step - loss: 77.7562 - val_loss: 78.4025\n",
      "Epoch 10/30\n",
      "2670/2670 [==============================] - 1s 516us/step - loss: 77.4777 - val_loss: 79.0367\n",
      "Epoch 11/30\n",
      "2670/2670 [==============================] - 1s 519us/step - loss: 77.2310 - val_loss: 79.3346\n",
      "Epoch 12/30\n",
      "2670/2670 [==============================] - 1s 521us/step - loss: 77.1553 - val_loss: 78.5945\n",
      "Epoch 13/30\n",
      "2670/2670 [==============================] - 1s 517us/step - loss: 77.0312 - val_loss: 80.5050\n",
      "Epoch 14/30\n",
      "2670/2670 [==============================] - 1s 530us/step - loss: 76.6939 - val_loss: 83.3221\n",
      "Epoch 15/30\n",
      "2670/2670 [==============================] - 1s 516us/step - loss: 76.3957 - val_loss: 80.3132\n",
      "Epoch 16/30\n",
      "2670/2670 [==============================] - 1s 519us/step - loss: 76.3677 - val_loss: 79.1319\n",
      "Epoch 17/30\n",
      "2670/2670 [==============================] - 1s 520us/step - loss: 76.0224 - val_loss: 82.2077\n",
      "Epoch 18/30\n",
      "2670/2670 [==============================] - 1s 520us/step - loss: 75.8998 - val_loss: 78.5754\n",
      "Epoch 19/30\n",
      "2670/2670 [==============================] - 1s 517us/step - loss: 75.7516 - val_loss: 78.3016\n",
      "Epoch 20/30\n",
      "2670/2670 [==============================] - 1s 537us/step - loss: 75.6876 - val_loss: 78.6228\n",
      "Epoch 21/30\n",
      "2670/2670 [==============================] - 1s 517us/step - loss: 75.4340 - val_loss: 78.6105\n",
      "Epoch 22/30\n",
      "2670/2670 [==============================] - 1s 521us/step - loss: 75.2395 - val_loss: 79.6818\n",
      "Epoch 23/30\n",
      "2670/2670 [==============================] - 1s 515us/step - loss: 75.1646 - val_loss: 79.0611\n",
      "Epoch 24/30\n",
      "2670/2670 [==============================] - 1s 520us/step - loss: 75.0187 - val_loss: 78.6211\n",
      "Epoch 25/30\n",
      "2670/2670 [==============================] - 1s 518us/step - loss: 74.7604 - val_loss: 79.4681\n",
      "Epoch 26/30\n",
      "2670/2670 [==============================] - 1s 532us/step - loss: 74.6404 - val_loss: 79.7001\n",
      "Epoch 27/30\n",
      "2670/2670 [==============================] - 1s 519us/step - loss: 74.6075 - val_loss: 83.0862\n",
      "Epoch 28/30\n",
      "2670/2670 [==============================] - 1s 515us/step - loss: 74.2941 - val_loss: 78.7119\n",
      "Epoch 29/30\n",
      "2670/2670 [==============================] - 1s 515us/step - loss: 74.1461 - val_loss: 78.8137\n",
      "Epoch 30/30\n",
      "2670/2670 [==============================] - 1s 521us/step - loss: 73.9521 - val_loss: 79.4191\n"
     ]
    }
   ],
   "source": [
    "# Convert the CSR matrix to a dense Numpy array\n",
    "X_dense = X_train.toarray()\n",
    "\n",
    "# Convert the Pandas Series to a Numpy array\n",
    "Y_array = y_train.values\n",
    "\n",
    "# Create a Keras Sequential model\n",
    "model = Sequential()\n",
    "\n",
    "\n",
    "# Add your layers here\n",
    "model.add(Dense(128, activation='relu', input_shape=(X_dense.shape[1],), kernel_initializer=initializers.he_normal()))  # Add a hidden layer with 128 units and ReLU activation\n",
    "model.add(Dense(64, activation='relu',kernel_initializer=initializers.he_normal()))  # Add another hidden layer with 64 units and ReLU activation\n",
    "model.add(Dense(1, activation='linear',kernel_initializer=initializers.he_normal()))  # Output layer (linear activation)\n",
    "\n",
    "# Compile the model\n",
    "model.compile(optimizer='adam', loss='mean_squared_error')\n",
    "\n",
    "# Fit the model\n",
    "history = model.fit(X_dense, Y_array, epochs=30, batch_size=32, validation_split=0.2, verbose=1)"
   ]
  },
  {
   "cell_type": "code",
   "execution_count": 67,
   "id": "c3e536d2",
   "metadata": {},
   "outputs": [
    {
     "name": "stdout",
     "output_type": "stream",
     "text": [
      "1113/1113 [==============================] - 0s 422us/step\n",
      "RMSE (Test): 8.87\n",
      "R2 Score (Test): 0.87\n"
     ]
    }
   ],
   "source": [
    "X_test_dense = X_test.toarray()\n",
    "\n",
    "# Make predictions\n",
    "y_test_pred = model.predict(X_test_dense)\n",
    "\n",
    "# Calculate RMSE for the test data\n",
    "rmse_test = np.sqrt(mean_squared_error(y_test, y_test_pred))\n",
    "\n",
    "# Calculate R2 score for the test data\n",
    "r2_test = r2_score(y_test, y_test_pred)\n",
    "\n",
    "# Print the RMSE and R2 score for the test data\n",
    "print(f\"RMSE (Test): {rmse_test:.2f}\")\n",
    "print(f\"R2 Score (Test): {r2_test:.2f}\")"
   ]
  }
 ],
 "metadata": {
  "kernelspec": {
   "display_name": "Python 3 (ipykernel)",
   "language": "python",
   "name": "python3"
  },
  "language_info": {
   "codemirror_mode": {
    "name": "ipython",
    "version": 3
   },
   "file_extension": ".py",
   "mimetype": "text/x-python",
   "name": "python",
   "nbconvert_exporter": "python",
   "pygments_lexer": "ipython3",
   "version": "3.11.3"
  }
 },
 "nbformat": 4,
 "nbformat_minor": 5
}
